{
 "cells": [
  {
   "cell_type": "code",
   "execution_count": 1,
   "id": "d3d33ca4-e77b-43be-b3b8-e1bec17440de",
   "metadata": {},
   "outputs": [],
   "source": [
    "import datasets\n",
    "from tner import TransformersNER\n",
    "from tner import get_dataset"
   ]
  },
  {
   "cell_type": "code",
   "execution_count": 2,
   "id": "164a96f2-d3e6-4087-ac77-305fe43a82cb",
   "metadata": {},
   "outputs": [
    {
     "name": "stdout",
     "output_type": "stream",
     "text": [
      "available devices: 8\n",
      "current device: 0\n"
     ]
    }
   ],
   "source": [
    "import os\n",
    "#os.environ[\"CUDA_DEVICE_ORDER\"]=\"PCI_BUS_ID\"   # see issue #152\n",
    "os.environ[\"CUDA_VISIBLE_DEVICES\"] = \"6\"\n",
    "#os.environ[\"CUDA_VISIBLE_DEVICES\"] = \"3\"\n",
    "import torch\n",
    "print(f'available devices: {torch.cuda.device_count()}')\n",
    "print(f'current device: { torch.cuda.current_device()}')"
   ]
  },
  {
   "cell_type": "markdown",
   "id": "6d713176-9781-420c-ab22-fcb45a509a98",
   "metadata": {},
   "source": [
    "# load finer ord dataset from huggingface"
   ]
  },
  {
   "cell_type": "code",
   "execution_count": 3,
   "id": "b37a52fe-db3b-42b5-adca-0e7c26be8796",
   "metadata": {},
   "outputs": [],
   "source": [
    "finer_ord = datasets.load_dataset('gtfintechlab/finer-ord')"
   ]
  },
  {
   "cell_type": "code",
   "execution_count": 4,
   "id": "866b920c-c212-497e-b590-1a0a97e0052a",
   "metadata": {},
   "outputs": [],
   "source": [
    "label_to_label_idx = {'O': 0, 'B-PER': 1, 'I-PER': 2, 'B-LOC': 3, 'I-LOC': 4, 'B-ORG': 5, 'I-ORG': 6}\n",
    "label_idx_to_label = {v:k for k,v in label_to_label_idx.items()}"
   ]
  },
  {
   "cell_type": "markdown",
   "id": "f10f4014-3e2f-4367-bd2c-0e0bd06fc332",
   "metadata": {
    "scrolled": true
   },
   "source": [
    "## Finer ord to connl format files"
   ]
  },
  {
   "cell_type": "code",
   "execution_count": 5,
   "id": "7ca173a7-a09f-40cf-a665-4af08397a25f",
   "metadata": {
    "scrolled": true
   },
   "outputs": [
    {
     "name": "stdout",
     "output_type": "stream",
     "text": [
      "train\n",
      "Why is this token None? {'gold_label': 0, 'gold_token': None, 'doc_idx': 152, 'sent_idx': 11}\n",
      "83791\n",
      "validation\n",
      "10635\n",
      "test\n",
      "27031\n"
     ]
    }
   ],
   "source": [
    "def save_as_connl(finer_ord_orig, part, target_filename):\n",
    "    print(part)\n",
    "    connl = []\n",
    "    last_sent, last_doc = 0, 0\n",
    "    for i in finer_ord[part]:\n",
    "        if i[\"sent_idx\"] != last_sent or i[\"doc_idx\"] != last_doc:\n",
    "            connl.append(\"\\n\")\n",
    "        label = label_idx_to_label[i[\"gold_label\"]]\n",
    "        if i[\"gold_token\"] is None:\n",
    "            print(f\"Why is this token None? {i}\")\n",
    "            i[\"gold_token\"] = \"\"\n",
    "        token = i['gold_token'].strip()\n",
    "        if token:\n",
    "            connl.append(f\"{token} {label}\")\n",
    "        last_sent, last_doc = i[\"sent_idx\"], i[\"doc_idx\"]\n",
    "    print(len(connl))\n",
    "    connl = \"\\n\".join(connl)\n",
    "    with open(target_filename, \"w\") as f:\n",
    "        f.write(connl)\n",
    "save_as_connl(finer_ord, \"train\", \"data/train.txt\")\n",
    "save_as_connl(finer_ord, \"validation\", \"data/validation.txt\")\n",
    "save_as_connl(finer_ord, \"test\", \"data/test.txt\")"
   ]
  },
  {
   "cell_type": "markdown",
   "id": "21b4a5f3-a64b-4445-89d0-cfc123926e30",
   "metadata": {},
   "source": [
    "# load connl 2003 pretrained roberta"
   ]
  },
  {
   "cell_type": "code",
   "execution_count": 6,
   "id": "10693d15-9114-44e2-9a46-c827770b3cd9",
   "metadata": {},
   "outputs": [
    {
     "name": "stderr",
     "output_type": "stream",
     "text": [
      "2024-04-03 00:07:10 INFO     initialize language model with `tner/roberta-large-conll2003`\n",
      "2024-04-03 00:07:15 INFO     use CRF\n",
      "2024-04-03 00:07:15 INFO     loading pre-trained CRF layer\n",
      "2024-04-03 00:07:15 INFO     label2id: {'B-LOC': 5, 'B-MISC': 2, 'B-ORG': 1, 'B-PER': 3, 'I-LOC': 8, 'I-MISC': 7, 'I-ORG': 6, 'I-PER': 4, 'O': 0}\n",
      "/home/ottowg/.pyenv/versions/finer-ord/lib/python3.9/site-packages/torch/nn/parallel/data_parallel.py:30: UserWarning: \n",
      "    There is an imbalance between your GPUs. You may want to exclude GPU 4 which\n",
      "    has less than 75% of the memory or cores of GPU 0. You can do so by setting\n",
      "    the device_ids argument to DataParallel, or by setting the CUDA_VISIBLE_DEVICES\n",
      "    environment variable.\n",
      "  warnings.warn(imbalance_warn.format(device_ids[min_pos], device_ids[max_pos]))\n",
      "2024-04-03 00:07:17 INFO     device   : cuda\n",
      "2024-04-03 00:07:17 INFO     gpus     : 8\n",
      "2024-04-03 00:07:20 INFO     encode all the data: 1\n",
      "100%|███████████████████████████████████████████████████████████████████████████████████████████████████████████████████████████████████████████████████████████| 1/1 [00:01<00:00,  1.34s/it]\n"
     ]
    },
    {
     "data": {
      "text/plain": [
       "{'prediction': [['B-PER',\n",
       "   'I-PER',\n",
       "   'O',\n",
       "   'O',\n",
       "   'B-MISC',\n",
       "   'I-MISC',\n",
       "   'B-MISC',\n",
       "   'O',\n",
       "   'O',\n",
       "   'B-LOC']],\n",
       " 'probability': [[0.9999880790710449,\n",
       "   0.9999984502792358,\n",
       "   0.9999995231628418,\n",
       "   0.9999996423721313,\n",
       "   0.9984089732170105,\n",
       "   0.7698124051094055,\n",
       "   0.9999961853027344,\n",
       "   0.9999994039535522,\n",
       "   0.9999992847442627,\n",
       "   0.999987006187439]],\n",
       " 'input': [['Jacob',\n",
       "   'Collier',\n",
       "   'is',\n",
       "   'a',\n",
       "   'Grammy',\n",
       "   'awarded',\n",
       "   'English',\n",
       "   'artist',\n",
       "   'from',\n",
       "   'London']],\n",
       " 'entity_prediction': [[{'type': 'PER',\n",
       "    'entity': ['Jacob', 'Collier'],\n",
       "    'position': [0, 1],\n",
       "    'probability': [0.9999880790710449, 0.9999984502792358]},\n",
       "   {'type': 'MISC',\n",
       "    'entity': ['Grammy', 'awarded'],\n",
       "    'position': [4, 5],\n",
       "    'probability': [0.9984089732170105, 0.7698124051094055]},\n",
       "   {'type': 'MISC',\n",
       "    'entity': ['English'],\n",
       "    'position': [6],\n",
       "    'probability': [0.9999961853027344]},\n",
       "   {'type': 'LOC',\n",
       "    'entity': ['London'],\n",
       "    'position': [9],\n",
       "    'probability': [0.999987006187439]}]]}"
      ]
     },
     "execution_count": 6,
     "metadata": {},
     "output_type": "execute_result"
    }
   ],
   "source": [
    "model = TransformersNER(\"tner/roberta-large-conll2003\")\n",
    "model.predict([\"Jacob Collier is a Grammy awarded English artist from London\"])"
   ]
  },
  {
   "cell_type": "code",
   "execution_count": 7,
   "id": "3bb43810-bb53-47c6-8900-eae4ae294aa9",
   "metadata": {},
   "outputs": [
    {
     "data": {
      "text/plain": [
       "{'B-LOC': 0,\n",
       " 'B-ORG': 1,\n",
       " 'B-PER': 2,\n",
       " 'I-LOC': 3,\n",
       " 'I-ORG': 4,\n",
       " 'I-PER': 5,\n",
       " 'O': 6}"
      ]
     },
     "execution_count": 7,
     "metadata": {},
     "output_type": "execute_result"
    }
   ],
   "source": [
    "label2id_wanted = {'B-LOC': 5, 'B-MISC': 2, 'B-ORG': 1, 'B-PER': 3, 'I-LOC': 8, 'I-MISC': 7, 'I-ORG': 6, 'I-PER': 4, 'O': 0}\n",
    "finer_ord_data, label2id = get_dataset(local_dataset={\n",
    "    \"valid\": \"data/validation.txt\",\n",
    "    \"train\": \"data/train.txt\",\n",
    "    \"test\": \"data/test.txt\"\n",
    "})\n",
    "label2id"
   ]
  },
  {
   "cell_type": "code",
   "execution_count": 8,
   "id": "7d1c6126-20aa-49bb-8310-b1f9e12c1ac8",
   "metadata": {},
   "outputs": [],
   "source": [
    "# Map to the right model label!\n",
    "mapping = {}\n",
    "for label, idx in label2id.items():\n",
    "    mapping[idx] = label2id_wanted[label]\n",
    "finer_ord_data[\"train\"][\"tags\"] = [[mapping[t] for t in s] for s in finer_ord_data[\"train\"][\"tags\"]]\n",
    "finer_ord_data[\"valid\"][\"tags\"] = [[mapping[t] for t in s] for s in finer_ord_data[\"valid\"][\"tags\"]]\n",
    "finer_ord_data[\"test\"][\"tags\"] = [[mapping[t] for t in s] for s in finer_ord_data[\"test\"][\"tags\"]]"
   ]
  },
  {
   "cell_type": "code",
   "execution_count": 9,
   "id": "413b223f-21c1-475c-80dd-cf1009eae33c",
   "metadata": {},
   "outputs": [],
   "source": [
    "import logging, sys\n",
    "logging.disable(sys.maxsize)"
   ]
  },
  {
   "cell_type": "code",
   "execution_count": 10,
   "id": "d2c43485-744b-479a-93a1-9e0ed472cfc3",
   "metadata": {
    "scrolled": true
   },
   "outputs": [],
   "source": [
    "def get_preds(data):\n",
    "    preds = []\n",
    "    for idx, sent in enumerate(data[\"tokens\"]):\n",
    "        print(f\"\\r({idx}/{len(data['tokens'])})\", end=\"\")\n",
    "        pred = model.predict([sent])[\"prediction\"][0]\n",
    "        preds.append(pred)\n",
    "        if len(pred) != len(sent):\n",
    "            print(len(pred), len(sent))\n",
    "            print(\"noooo\")\n",
    "    len(preds)\n",
    "    return preds"
   ]
  },
  {
   "cell_type": "code",
   "execution_count": 22,
   "id": "fe483a6a-de7a-4393-915b-f1f8853454c6",
   "metadata": {
    "scrolled": true
   },
   "outputs": [],
   "source": [
    "preds_test = get_preds(finer_ord_data[\"test\"]);"
   ]
  },
  {
   "cell_type": "code",
   "execution_count": 26,
   "id": "47f707a8-ef1b-4449-b5e8-9b40910477a2",
   "metadata": {
    "scrolled": true
   },
   "outputs": [],
   "source": [
    "# preds_validation = get_preds(finer_ord_data[\"valid\"])"
   ]
  },
  {
   "cell_type": "code",
   "execution_count": null,
   "id": "cb66b158-da79-4271-af02-5116aaf0298c",
   "metadata": {
    "scrolled": true
   },
   "outputs": [],
   "source": [
    "#preds_train = get_preds(finer_ord_data[\"train\"])"
   ]
  },
  {
   "cell_type": "markdown",
   "id": "dbfa042d-57c1-4ca5-8652-8a32ac9e8c48",
   "metadata": {},
   "source": [
    "# Evaluate conll2003 model on finer ord"
   ]
  },
  {
   "cell_type": "code",
   "execution_count": 23,
   "id": "1f2e1cec-6df4-400a-89a6-143f23b3d6d8",
   "metadata": {},
   "outputs": [
    {
     "data": {
      "text/plain": [
       "(['O', 'B-PER', 'O', 'O', 'O', 'O', 'O', 'O', 'O'],\n",
       " ['B-PER', 'I-PER', 'O', 'O', 'O', 'O', 'O', 'O', 'O'],\n",
       " ['Scout', 'Finch', 'is', 'all', 'grown', 'up', ',', 'indeed', '.'])"
      ]
     },
     "execution_count": 23,
     "metadata": {},
     "output_type": "execute_result"
    }
   ],
   "source": [
    "import evaluate\n",
    "import pandas as pd\n",
    "\n",
    "metric = evaluate.load('seqeval')\n",
    "\n",
    "def compute(predictions, references):\n",
    "    performance = metric.compute(predictions=predictions, references=references)\n",
    "    micro = pd.Series({k[8:]: v for k, v in performance.items() if k.startswith(\"overall_\")})\n",
    "    label_performance = {k: v for k, v in performance.items() if not k.startswith(\"overall_\")}\n",
    "    \n",
    "    metrics_df = pd.DataFrame(label_performance).T\n",
    "    weights = metrics_df.number.divide(metrics_df.number.sum())\n",
    "    weighted_average_macro = metrics_df[[\"precision\", \"recall\", \"f1\"]].multiply(weights, axis=0).sum()\n",
    "    metrics_df.loc[\"micro\"] = micro\n",
    "    metrics_df.loc[\"macro\"] = metrics_df[[\"precision\", \"recall\", \"f1\"]].mean()\n",
    "    metrics_df.loc[\"macro_weighted\"] = weighted_average_macro\n",
    "    return metrics_df\n",
    "id2label_wanted = {v:k for k, v in label2id_wanted.items()}\n",
    "\n",
    "#preds_train_corrected = [[t if \"MISC\" not in t else \"O\" for t in s] for s in preds_train]\n",
    "#gold_train = [[id2label_wanted[t] for t in s] for s in finer_ord_data[\"train\"]['tags']]\n",
    "\n",
    "\n",
    "#preds_validation_corrected = [[t if \"MISC\" not in t else \"O\" for t in s] for s in preds_validation]\n",
    "#gold_validation = [[id2label_wanted[t] for t in s] for s in finer_ord_data[\"valid\"]['tags']]\n",
    "\n",
    "preds_test_corrected = [[t if \"MISC\" not in t else \"O\" for t in s] for s in preds_test]\n",
    "gold_test = [[id2label_wanted[t] for t in s] for s in finer_ord_data[\"test\"]['tags']]\n",
    "\n",
    "gold_test[939], preds_test_corrected[939], finer_ord_data[\"test\"][\"tokens\"][939]"
   ]
  },
  {
   "cell_type": "code",
   "execution_count": 14,
   "id": "850489ff-552f-4b7a-a0f3-fb7148e4297d",
   "metadata": {},
   "outputs": [],
   "source": [
    "test_perfomance = compute(preds_test_corrected, gold_test)"
   ]
  },
  {
   "cell_type": "code",
   "execution_count": 15,
   "id": "7cc244d7-9231-4afc-8f05-aa6b9d6438d3",
   "metadata": {},
   "outputs": [
    {
     "name": "stdout",
     "output_type": "stream",
     "text": [
      "test\n"
     ]
    },
    {
     "data": {
      "text/html": [
       "<div>\n",
       "<style scoped>\n",
       "    .dataframe tbody tr th:only-of-type {\n",
       "        vertical-align: middle;\n",
       "    }\n",
       "\n",
       "    .dataframe tbody tr th {\n",
       "        vertical-align: top;\n",
       "    }\n",
       "\n",
       "    .dataframe thead th {\n",
       "        text-align: right;\n",
       "    }\n",
       "</style>\n",
       "<table border=\"1\" class=\"dataframe\">\n",
       "  <thead>\n",
       "    <tr style=\"text-align: right;\">\n",
       "      <th></th>\n",
       "      <th>precision</th>\n",
       "      <th>recall</th>\n",
       "      <th>f1</th>\n",
       "      <th>number</th>\n",
       "    </tr>\n",
       "  </thead>\n",
       "  <tbody>\n",
       "    <tr>\n",
       "      <th>LOC</th>\n",
       "      <td>0.775076</td>\n",
       "      <td>0.850000</td>\n",
       "      <td>0.810811</td>\n",
       "      <td>300.0</td>\n",
       "    </tr>\n",
       "    <tr>\n",
       "      <th>ORG</th>\n",
       "      <td>0.720539</td>\n",
       "      <td>0.773960</td>\n",
       "      <td>0.746295</td>\n",
       "      <td>553.0</td>\n",
       "    </tr>\n",
       "    <tr>\n",
       "      <th>PER</th>\n",
       "      <td>0.925424</td>\n",
       "      <td>0.954545</td>\n",
       "      <td>0.939759</td>\n",
       "      <td>286.0</td>\n",
       "    </tr>\n",
       "    <tr>\n",
       "      <th>micro</th>\n",
       "      <td>0.784893</td>\n",
       "      <td>0.839333</td>\n",
       "      <td>0.811201</td>\n",
       "      <td>NaN</td>\n",
       "    </tr>\n",
       "    <tr>\n",
       "      <th>macro</th>\n",
       "      <td>0.801483</td>\n",
       "      <td>0.854460</td>\n",
       "      <td>0.827016</td>\n",
       "      <td>NaN</td>\n",
       "    </tr>\n",
       "    <tr>\n",
       "      <th>macro_weighted</th>\n",
       "      <td>0.786349</td>\n",
       "      <td>0.839333</td>\n",
       "      <td>0.811866</td>\n",
       "      <td>NaN</td>\n",
       "    </tr>\n",
       "  </tbody>\n",
       "</table>\n",
       "</div>"
      ],
      "text/plain": [
       "                precision    recall        f1  number\n",
       "LOC              0.775076  0.850000  0.810811   300.0\n",
       "ORG              0.720539  0.773960  0.746295   553.0\n",
       "PER              0.925424  0.954545  0.939759   286.0\n",
       "micro            0.784893  0.839333  0.811201     NaN\n",
       "macro            0.801483  0.854460  0.827016     NaN\n",
       "macro_weighted   0.786349  0.839333  0.811866     NaN"
      ]
     },
     "execution_count": 15,
     "metadata": {},
     "output_type": "execute_result"
    }
   ],
   "source": [
    "print(\"test\")\n",
    "compute(preds_test_corrected, gold_test)"
   ]
  },
  {
   "cell_type": "code",
   "execution_count": 24,
   "id": "ce59c32e-46fa-420d-a90b-a68290f968a9",
   "metadata": {},
   "outputs": [
    {
     "name": "stdout",
     "output_type": "stream",
     "text": [
      "|                |   precision |   recall |       f1 |   number |\n",
      "|:---------------|------------:|---------:|---------:|---------:|\n",
      "| LOC            |    0.775076 | 0.85     | 0.810811 |      300 |\n",
      "| ORG            |    0.720539 | 0.77396  | 0.746295 |      553 |\n",
      "| PER            |    0.925424 | 0.954545 | 0.939759 |      286 |\n",
      "| micro          |    0.784893 | 0.839333 | 0.811201 |      nan |\n",
      "| macro          |    0.801483 | 0.85446  | 0.827016 |      nan |\n",
      "| macro_weighted |    0.786349 | 0.839333 | 0.811866 |      nan |\n"
     ]
    }
   ],
   "source": [
    "print(test_perfomance.to_markdown())"
   ]
  },
  {
   "cell_type": "code",
   "execution_count": 25,
   "id": "a84e328b-0420-45ae-b323-06e3d71cb223",
   "metadata": {},
   "outputs": [
    {
     "name": "stdout",
     "output_type": "stream",
     "text": [
      "validation\n"
     ]
    },
    {
     "data": {
      "text/html": [
       "<div>\n",
       "<style scoped>\n",
       "    .dataframe tbody tr th:only-of-type {\n",
       "        vertical-align: middle;\n",
       "    }\n",
       "\n",
       "    .dataframe tbody tr th {\n",
       "        vertical-align: top;\n",
       "    }\n",
       "\n",
       "    .dataframe thead th {\n",
       "        text-align: right;\n",
       "    }\n",
       "</style>\n",
       "<table border=\"1\" class=\"dataframe\">\n",
       "  <thead>\n",
       "    <tr style=\"text-align: right;\">\n",
       "      <th></th>\n",
       "      <th>precision</th>\n",
       "      <th>recall</th>\n",
       "      <th>f1</th>\n",
       "      <th>number</th>\n",
       "    </tr>\n",
       "  </thead>\n",
       "  <tbody>\n",
       "    <tr>\n",
       "      <th>LOC</th>\n",
       "      <td>0.892308</td>\n",
       "      <td>0.901554</td>\n",
       "      <td>0.896907</td>\n",
       "      <td>193.0</td>\n",
       "    </tr>\n",
       "    <tr>\n",
       "      <th>ORG</th>\n",
       "      <td>0.850202</td>\n",
       "      <td>0.755396</td>\n",
       "      <td>0.800000</td>\n",
       "      <td>278.0</td>\n",
       "    </tr>\n",
       "    <tr>\n",
       "      <th>PER</th>\n",
       "      <td>0.924138</td>\n",
       "      <td>0.971014</td>\n",
       "      <td>0.946996</td>\n",
       "      <td>138.0</td>\n",
       "    </tr>\n",
       "    <tr>\n",
       "      <th>micro</th>\n",
       "      <td>0.882453</td>\n",
       "      <td>0.850575</td>\n",
       "      <td>0.866221</td>\n",
       "      <td>NaN</td>\n",
       "    </tr>\n",
       "    <tr>\n",
       "      <th>macro</th>\n",
       "      <td>0.887275</td>\n",
       "      <td>0.869635</td>\n",
       "      <td>0.877531</td>\n",
       "      <td>NaN</td>\n",
       "    </tr>\n",
       "    <tr>\n",
       "      <th>macro_weighted</th>\n",
       "      <td>0.880300</td>\n",
       "      <td>0.850575</td>\n",
       "      <td>0.864021</td>\n",
       "      <td>NaN</td>\n",
       "    </tr>\n",
       "  </tbody>\n",
       "</table>\n",
       "</div>"
      ],
      "text/plain": [
       "                precision    recall        f1  number\n",
       "LOC              0.892308  0.901554  0.896907   193.0\n",
       "ORG              0.850202  0.755396  0.800000   278.0\n",
       "PER              0.924138  0.971014  0.946996   138.0\n",
       "micro            0.882453  0.850575  0.866221     NaN\n",
       "macro            0.887275  0.869635  0.877531     NaN\n",
       "macro_weighted   0.880300  0.850575  0.864021     NaN"
      ]
     },
     "execution_count": 25,
     "metadata": {},
     "output_type": "execute_result"
    }
   ],
   "source": [
    "print(\"validation\")\n",
    "compute(preds_validation_corrected, gold_validation)"
   ]
  },
  {
   "cell_type": "code",
   "execution_count": 65,
   "id": "cdaa99c8-d189-4f74-ae94-a37163132aa9",
   "metadata": {},
   "outputs": [
    {
     "name": "stdout",
     "output_type": "stream",
     "text": [
      "train\n"
     ]
    },
    {
     "data": {
      "text/html": [
       "<div>\n",
       "<style scoped>\n",
       "    .dataframe tbody tr th:only-of-type {\n",
       "        vertical-align: middle;\n",
       "    }\n",
       "\n",
       "    .dataframe tbody tr th {\n",
       "        vertical-align: top;\n",
       "    }\n",
       "\n",
       "    .dataframe thead th {\n",
       "        text-align: right;\n",
       "    }\n",
       "</style>\n",
       "<table border=\"1\" class=\"dataframe\">\n",
       "  <thead>\n",
       "    <tr style=\"text-align: right;\">\n",
       "      <th></th>\n",
       "      <th>precision</th>\n",
       "      <th>recall</th>\n",
       "      <th>f1</th>\n",
       "      <th>number</th>\n",
       "    </tr>\n",
       "  </thead>\n",
       "  <tbody>\n",
       "    <tr>\n",
       "      <th>LOC</th>\n",
       "      <td>0.838710</td>\n",
       "      <td>0.861284</td>\n",
       "      <td>0.849847</td>\n",
       "      <td>966.0</td>\n",
       "    </tr>\n",
       "    <tr>\n",
       "      <th>ORG</th>\n",
       "      <td>0.832283</td>\n",
       "      <td>0.842079</td>\n",
       "      <td>0.837153</td>\n",
       "      <td>2039.0</td>\n",
       "    </tr>\n",
       "    <tr>\n",
       "      <th>PER</th>\n",
       "      <td>0.918671</td>\n",
       "      <td>0.970944</td>\n",
       "      <td>0.944085</td>\n",
       "      <td>826.0</td>\n",
       "    </tr>\n",
       "    <tr>\n",
       "      <th>micro</th>\n",
       "      <td>0.853106</td>\n",
       "      <td>0.874706</td>\n",
       "      <td>0.863771</td>\n",
       "      <td>NaN</td>\n",
       "    </tr>\n",
       "    <tr>\n",
       "      <th>macro</th>\n",
       "      <td>0.860692</td>\n",
       "      <td>0.887253</td>\n",
       "      <td>0.873714</td>\n",
       "      <td>NaN</td>\n",
       "    </tr>\n",
       "    <tr>\n",
       "      <th>macro_weighted</th>\n",
       "      <td>0.852530</td>\n",
       "      <td>0.874706</td>\n",
       "      <td>0.863409</td>\n",
       "      <td>NaN</td>\n",
       "    </tr>\n",
       "  </tbody>\n",
       "</table>\n",
       "</div>"
      ],
      "text/plain": [
       "                precision    recall        f1  number\n",
       "LOC              0.838710  0.861284  0.849847   966.0\n",
       "ORG              0.832283  0.842079  0.837153  2039.0\n",
       "PER              0.918671  0.970944  0.944085   826.0\n",
       "micro            0.853106  0.874706  0.863771     NaN\n",
       "macro            0.860692  0.887253  0.873714     NaN\n",
       "macro_weighted   0.852530  0.874706  0.863409     NaN"
      ]
     },
     "execution_count": 65,
     "metadata": {},
     "output_type": "execute_result"
    }
   ],
   "source": [
    "print(\"train\")\n",
    "compute(preds_train_corrected, gold_train)"
   ]
  },
  {
   "cell_type": "markdown",
   "id": "59409eba-366f-42c1-a4f3-09220e99279b",
   "metadata": {},
   "source": [
    "### Label count"
   ]
  },
  {
   "cell_type": "code",
   "execution_count": null,
   "id": "6d42b460-dbc2-471f-bc30-9a66e8642bc4",
   "metadata": {},
   "outputs": [],
   "source": [
    "org = 2039 + 278 + 553\n",
    "per = 826 + 138 + 286\n",
    "loc = 966 + 193 + 300\n",
    "org, per, loc"
   ]
  },
  {
   "cell_type": "code",
   "execution_count": null,
   "id": "39b52bb5-3af3-4907-9c19-8f847a92833b",
   "metadata": {},
   "outputs": [],
   "source": [
    "model.train()"
   ]
  },
  {
   "cell_type": "code",
   "execution_count": 26,
   "id": "75117fbd-4971-4d60-9dd6-312ca8fbc535",
   "metadata": {},
   "outputs": [],
   "source": [
    "sents = list(zip(finer_ord_data[\"train\"][\"tokens\"], finer_ord_data[\"train\"][\"tags\"]))"
   ]
  },
  {
   "cell_type": "code",
   "execution_count": 27,
   "id": "e29ba213-272c-4102-9c07-06b8ac7d5933",
   "metadata": {},
   "outputs": [
    {
     "data": {
      "text/plain": [
       "(['In',\n",
       "  'the',\n",
       "  'first',\n",
       "  'sign',\n",
       "  'that',\n",
       "  'turmoil',\n",
       "  'in',\n",
       "  'the',\n",
       "  'stock',\n",
       "  'market',\n",
       "  'could',\n",
       "  'affect',\n",
       "  'spending',\n",
       "  'in',\n",
       "  'the',\n",
       "  'real',\n",
       "  'economy',\n",
       "  ',',\n",
       "  'China',\n",
       "  \"'s\",\n",
       "  'automakers',\n",
       "  \"'\",\n",
       "  'association',\n",
       "  'on',\n",
       "  'Friday',\n",
       "  'slashed',\n",
       "  'its',\n",
       "  '2015',\n",
       "  'forecast',\n",
       "  'for',\n",
       "  'vehicle',\n",
       "  'sales',\n",
       "  'growth',\n",
       "  'to',\n",
       "  'a',\n",
       "  'meagre',\n",
       "  '3',\n",
       "  'percent',\n",
       "  '.'],\n",
       " [0,\n",
       "  0,\n",
       "  0,\n",
       "  0,\n",
       "  0,\n",
       "  0,\n",
       "  0,\n",
       "  0,\n",
       "  0,\n",
       "  0,\n",
       "  0,\n",
       "  0,\n",
       "  0,\n",
       "  0,\n",
       "  0,\n",
       "  0,\n",
       "  0,\n",
       "  0,\n",
       "  5,\n",
       "  0,\n",
       "  0,\n",
       "  0,\n",
       "  0,\n",
       "  0,\n",
       "  0,\n",
       "  0,\n",
       "  0,\n",
       "  0,\n",
       "  0,\n",
       "  0,\n",
       "  0,\n",
       "  0,\n",
       "  0,\n",
       "  0,\n",
       "  0,\n",
       "  0,\n",
       "  0,\n",
       "  0,\n",
       "  0])"
      ]
     },
     "execution_count": 27,
     "metadata": {},
     "output_type": "execute_result"
    }
   ],
   "source": [
    "sents[45]"
   ]
  },
  {
   "cell_type": "code",
   "execution_count": null,
   "id": "38d8b24f-7d28-4d7e-a0ae-5fbd4cb4baa7",
   "metadata": {},
   "outputs": [],
   "source": []
  }
 ],
 "metadata": {
  "kernelspec": {
   "display_name": "fiNER-ord_py3.9",
   "language": "python",
   "name": "finer-ord_py3.9"
  },
  "language_info": {
   "codemirror_mode": {
    "name": "ipython",
    "version": 3
   },
   "file_extension": ".py",
   "mimetype": "text/x-python",
   "name": "python",
   "nbconvert_exporter": "python",
   "pygments_lexer": "ipython3",
   "version": "3.9.18"
  }
 },
 "nbformat": 4,
 "nbformat_minor": 5
}
